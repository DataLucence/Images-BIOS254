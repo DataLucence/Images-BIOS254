{
 "cells": [
  {
   "cell_type": "markdown",
   "metadata": {},
   "source": [
    "# Lesson 1: Digital Images\n",
    "\n",
    "Our goal today is to understand what a digital image is and how it is commonly represented as bits and bytes. We will cover the following topics:\n",
    "\n",
    "- EPISODE 1: Load and View Data\n",
    "    - Navigate jupyter note books (5 mins)\n",
    "    - Load data file (10 mins)\n",
    "    - Load and use metadata (10 mins)\n",
    "    - View images (15 mins)\n",
    "   \n",
    "\n",
    "\n",
    "- EPISODE 2: Study Image\n",
    "    - Histogram the pixel values in the image (10 mins)\n",
    "    - Indexing and arrays (10 mins)\n",
    "    - Errors and debugs (15 mins)"
   ]
  },
  {
   "cell_type": "markdown",
   "metadata": {},
   "source": [
    "## 1.Navigate Jupyter note books\n"
   ]
  },
  {
   "cell_type": "markdown",
   "metadata": {
    "collapsed": true
   },
   "source": [
    "### Notes about jupyter notebooks:\n",
    "There are two modes of the notebook cells: Edit mode and Command mode:  \n",
    "   \n",
    "From Edit mode (green-selected cell that you can type into)\n",
    "   - Press ESC/click outside of the edit box: enters Command mode\n",
    "   - Can be a code or a markdown cell\n",
    "\n",
    "From Command mode (blue-marked cell)\n",
    "   - \"a\" enters a new cell above the selected cell\n",
    "   - \"b\" enters a new cell below the selected cell\n",
    "   - \"dd\" deletes the selected cell\n",
    "   - \"y\" changes the cell type to python code\n",
    "   - \"m\" changes the cell to markdown\n",
    "   - Doulbe cliking on a markdown makes it into Command mode\n",
    "   - \"h\" pulls up a help window\n",
    "   - Press ENTER/click inside of the edit box: enters edit mode\n",
    "   - SHIFT-ENTER runs the cell as code or markdown and selects the cell below "
   ]
  },
  {
   "cell_type": "markdown",
   "metadata": {},
   "source": [
    "### Exercise: Practice using & navigating jupyter notebooks\n",
    "\n",
    "- Double click on this cell.\n",
    "- Change this cell between Edit mode and Command mode.\n",
    "- Add a new cell above and below this cell, then delete them.\n",
    "- Change this cell to python code and run.\n",
    "- Change this cell to markdown and run."
   ]
  },
  {
   "cell_type": "markdown",
   "metadata": {},
   "source": [
    "## 2. Load data file\n"
   ]
  },
  {
   "cell_type": "markdown",
   "metadata": {},
   "source": [
    "# Load libraries\n",
    "\n",
    "### First, some code to make it easier to access useful libraries & to visualize data in the notebook."
   ]
  },
  {
   "cell_type": "markdown",
   "metadata": {},
   "source": [
    "<font color ='red'> What does a library provide? <font>"
   ]
  },
  {
   "cell_type": "code",
   "execution_count": 1,
   "metadata": {},
   "outputs": [],
   "source": [
    "%matplotlib inline                \n",
    "\n",
    "import numpy as np               #makes numpy library available as 'np'\n",
    "import matplotlib.pyplot as plt  #makes matplotlib.pyplot available as 'plt' \n",
    "import seaborn as sns            #makes seaborn library avialable as 'sns'\n"
   ]
  },
  {
   "cell_type": "markdown",
   "metadata": {},
   "source": [
    "\"%matplotlib inline\" is a magic function to sets the backend of matplotlib to the 'inline' backend, which means plotting right after command, and saving the results.\n",
    "\n",
    "Note, importing `seaborn` makes `Matplotlib` look nicer."
   ]
  },
  {
   "cell_type": "markdown",
   "metadata": {},
   "source": [
    "### Build a common data path\n",
    "\n",
    "Let's set some defaults for the packages we just imported, which gets rid of grid line on our image plots!"
   ]
  },
  {
   "cell_type": "markdown",
   "metadata": {},
   "source": [
    "Use bash commands to:\n",
    "\n",
    "1. Make a directory called ~/XYZ/Images-BIOS254,  where XYZ is the folder you are using for course files\n",
    "2. Download _bioimages_code.zip_ and _bioimages_data.zip_ from Canvas and move the resulting folders into this one\n",
    "3. Move into this folder\n",
    "2. Navigate to data folder, we will be loading  \n",
    "HAC-Cit-KRAB+dox_w1DIC_s41_t251 + \n",
    "HAC-Cit-KRAB+dox_w2YFPled_s41_t251 + \n",
    "HAC-Cit-KRAB+dox_w3RFPled_s41_t251\n"
   ]
  },
  {
   "cell_type": "markdown",
   "metadata": {},
   "source": [
    "To avoid switching back & forth, we can run bash commands from this notebook. \n",
    "\n",
    "**Exercise**\n",
    "\n",
    "Once you have files downloaded, run bash commands to navigate to your Images-BIOS254 directory and to see its contents."
   ]
  },
  {
   "cell_type": "code",
   "execution_count": 2,
   "metadata": {},
   "outputs": [
    {
     "name": "stdout",
     "output_type": "stream",
     "text": [
      "/Users/ws/Documents/DataLucenceCourse/Images-BIOS254\n"
     ]
    }
   ],
   "source": [
    "cd ~/Documents/DataLucenceCourse/Images-BIOS254"
   ]
  },
  {
   "cell_type": "code",
   "execution_count": 3,
   "metadata": {},
   "outputs": [
    {
     "data": {
      "text/plain": [
       "'/Users/ws/Documents/DataLucenceCourse/Images-BIOS254'"
      ]
     },
     "execution_count": 3,
     "metadata": {},
     "output_type": "execute_result"
    }
   ],
   "source": [
    "pwd"
   ]
  },
  {
   "cell_type": "code",
   "execution_count": 4,
   "metadata": {
    "scrolled": true
   },
   "outputs": [
    {
     "name": "stdout",
     "output_type": "stream",
     "text": [
      "\u001b[34mCode\u001b[m\u001b[m/      \u001b[34mData\u001b[m\u001b[m/      LICENSE    README.md\r\n"
     ]
    }
   ],
   "source": [
    "ls"
   ]
  },
  {
   "cell_type": "code",
   "execution_count": 5,
   "metadata": {},
   "outputs": [
    {
     "name": "stdout",
     "output_type": "stream",
     "text": [
      "\u001b[34mData_ConfocalDrugPanel\u001b[m\u001b[m/         \u001b[34mTracking\u001b[m\u001b[m/\r\n",
      "\u001b[34mFigures\u001b[m\u001b[m/                        brightfield_image.TIF\r\n",
      "\u001b[34mL1Data\u001b[m\u001b[m/                         example_Simple Segmentation.h5\r\n",
      "Settings-2013-08-01.rtf\r\n"
     ]
    }
   ],
   "source": [
    "ls Data"
   ]
  },
  {
   "cell_type": "code",
   "execution_count": 6,
   "metadata": {},
   "outputs": [
    {
     "name": "stdout",
     "output_type": "stream",
     "text": [
      "HAC-Cit-KRABdox_s41.json               \u001b[31mHAC-Cit-KRABdox_w2YFPled_s41_t251.TIF\u001b[m\u001b[m*\r\n",
      "\u001b[31mHAC-Cit-KRABdox_w1DIC_s41_t251.TIF\u001b[m\u001b[m*    \u001b[31mHAC-Cit-KRABdox_w3RFPled_s41_t251.TIF\u001b[m\u001b[m*\r\n"
     ]
    }
   ],
   "source": [
    "ls Data/L1Data"
   ]
  },
  {
   "cell_type": "markdown",
   "metadata": {},
   "source": [
    "## Exercise: Let's discuss limitations with how this data is names?  \n",
    "- FILENAMING CONVENTIONS\n",
    "- INCREMENTAL DATA NAMES TO LINK TO META DATA\n",
    "- NO SPACES IN FILE NAME\n",
    "- JOIN IMAGES INTO ONE 3 CHANNEL TIFF\n",
    "- LENGTH OF NAME\n",
    "- TYPES OF CHARACHTERS IN NAME (OS ISSUES)\n",
    "- PUT KEY INFO ABOUT DATA IN METADATA (ie exp conditions, channel names, etc.)"
   ]
  },
  {
   "cell_type": "markdown",
   "metadata": {},
   "source": [
    "The images in this folder are kindly donated by Dr. Bintu (Bioengineering) and were used in \"Dynamic of Epigenetic Regulation at the Single-Cell Level\" (Bintu et al. 2016)"
   ]
  },
  {
   "cell_type": "markdown",
   "metadata": {},
   "source": [
    "Let's make a common data path for our class."
   ]
  },
  {
   "cell_type": "code",
   "execution_count": 7,
   "metadata": {},
   "outputs": [],
   "source": [
    "data_path = \"./Data/L1Data/\""
   ]
  },
  {
   "cell_type": "markdown",
   "metadata": {},
   "source": [
    "### Load image file into Jupyter notebook\n"
   ]
  },
  {
   "cell_type": "code",
   "execution_count": 8,
   "metadata": {},
   "outputs": [],
   "source": [
    "from skimage.io import imread #get image read function from scikit image aka skimage"
   ]
  },
  {
   "cell_type": "code",
   "execution_count": 9,
   "metadata": {},
   "outputs": [],
   "source": [
    "brt_data = imread(data_path + \"HAC-Cit-KRABdox_w1DIC_s41_\" + \"t251.TIF\")\n",
    "ch1_data = imread(data_path + \"HAC-Cit-KRABdox_w3RFPled_s41_\" + \"t251.TIF\")\n"
   ]
  },
  {
   "cell_type": "code",
   "execution_count": 10,
   "metadata": {},
   "outputs": [
    {
     "data": {
      "text/plain": [
       "(512, 512)"
      ]
     },
     "execution_count": 10,
     "metadata": {},
     "output_type": "execute_result"
    }
   ],
   "source": [
    "brt_data.shape #want to know the dimensions of an image? use \"shape\" function from the numpy library"
   ]
  },
  {
   "cell_type": "code",
   "execution_count": 11,
   "metadata": {},
   "outputs": [
    {
     "data": {
      "text/plain": [
       "(512, 512)"
      ]
     },
     "execution_count": 11,
     "metadata": {},
     "output_type": "execute_result"
    }
   ],
   "source": [
    "ch1_data.shape"
   ]
  },
  {
   "cell_type": "markdown",
   "metadata": {},
   "source": [
    "## Exercise (3 min):  read in the third channel, check shape and size\n",
    "    What information does 'size' provide?\n",
    "    What else can you learn about a NP array? \n",
    "    Check out this website for ideas — https://docs.scipy.org/doc/numpy/reference/arrays.ndarray.html#array-attributes"
   ]
  },
  {
   "cell_type": "code",
   "execution_count": 12,
   "metadata": {},
   "outputs": [
    {
     "name": "stdout",
     "output_type": "stream",
     "text": [
      "(512, 512)\n",
      "262144\n"
     ]
    }
   ],
   "source": [
    "ch2_data = imread(data_path + \"HAC-Cit-KRABdox_w2YFPled_s41_\" + \"t251.TIF\")\n",
    "print(ch2_data.shape)\n",
    "print(ch2_data.size)"
   ]
  },
  {
   "cell_type": "markdown",
   "metadata": {},
   "source": [
    "We have three images of a single microscope field that naturally belong together. \n",
    "So, lets combine all the channels into one variable/data-structure"
   ]
  },
  {
   "cell_type": "code",
   "execution_count": 13,
   "metadata": {},
   "outputs": [],
   "source": [
    "imdata = np.array([brt_data, ch1_data, ch2_data])"
   ]
  },
  {
   "cell_type": "code",
   "execution_count": 14,
   "metadata": {},
   "outputs": [
    {
     "data": {
      "text/plain": [
       "(3, 512, 512)"
      ]
     },
     "execution_count": 14,
     "metadata": {},
     "output_type": "execute_result"
    }
   ],
   "source": [
    "imdata.shape"
   ]
  },
  {
   "cell_type": "markdown",
   "metadata": {},
   "source": [
    "## 3. Metadata\n"
   ]
  },
  {
   "cell_type": "markdown",
   "metadata": {},
   "source": [
    "`data` is a `numpy` array. it's shape indicates that it has **four** dimensions.  So, this file is more complex than a single two-dimensional data array.  \n",
    "\n",
    "Unfortunately, the researchers here only put relevant info on data in the name of each image, not in the metadata - i've created a fake metadata for you; happy to show you how to create after class if there is time."
   ]
  },
  {
   "cell_type": "markdown",
   "metadata": {},
   "source": [
    "### Load the metadata\n",
    "\n",
    "File format called JSON. JSON files are easily loaded into python as the dictionary data type. Dictionaries in python are indexed with keys, which are strings instead of numerical indices (such as used in lists). \n",
    "\n",
    "To gain some intuition for this concept, load the JSON file and examine it.\n",
    "\n",
    "Tips to learn more: This website https://docs.python.org/3/tutorial/datastructures.html#dictionaries provides more formal descriptions of dictionaries.  There are also decent tutorials on YouTube for beginners, e.g. https://www.youtube.com/watch?v=daefaLgNkw0. "
   ]
  },
  {
   "cell_type": "code",
   "execution_count": 15,
   "metadata": {},
   "outputs": [],
   "source": [
    "import json\n",
    "with open(data_path + \"HAC-Cit-KRABdox_s41.json\", mode='r') as metadata_ctl:\n",
    "    meta_data = json.load(metadata_ctl)"
   ]
  },
  {
   "cell_type": "code",
   "execution_count": 16,
   "metadata": {},
   "outputs": [
    {
     "name": "stdout",
     "output_type": "stream",
     "text": [
      "{'axes': ['CXY'], 'channels': ['DIC', 'YFP', 'RFP'], 'pixel_size': ['1', '1'], 'date': ['01/01/2019'], 'image_preprocessing': ['none'], 'condition': ['HAC-Cit-KRAB+dox']}\n"
     ]
    }
   ],
   "source": [
    "print(meta_data)"
   ]
  },
  {
   "cell_type": "markdown",
   "metadata": {},
   "source": [
    "This is a bit difficult to digest, so let's work our way through the information"
   ]
  },
  {
   "cell_type": "code",
   "execution_count": 17,
   "metadata": {},
   "outputs": [
    {
     "name": "stdout",
     "output_type": "stream",
     "text": [
      "axes\n",
      "channels\n",
      "pixel_size\n",
      "date\n",
      "image_preprocessing\n",
      "condition\n"
     ]
    }
   ],
   "source": [
    "#list the keys in the dictionary\n",
    "for key in meta_data:\n",
    "    print(key)"
   ]
  },
  {
   "cell_type": "code",
   "execution_count": 18,
   "metadata": {},
   "outputs": [
    {
     "name": "stdout",
     "output_type": "stream",
     "text": [
      "axes ['CXY']\n",
      "channels ['DIC', 'YFP', 'RFP']\n",
      "pixel_size ['1', '1']\n",
      "date ['01/01/2019']\n",
      "image_preprocessing ['none']\n",
      "condition ['HAC-Cit-KRAB+dox']\n"
     ]
    }
   ],
   "source": [
    "for key, value in meta_data.items():\n",
    "    print(key, value)"
   ]
  },
  {
   "cell_type": "code",
   "execution_count": 19,
   "metadata": {},
   "outputs": [
    {
     "data": {
      "text/plain": [
       "['DIC', 'YFP', 'RFP']"
      ]
     },
     "execution_count": 19,
     "metadata": {},
     "output_type": "execute_result"
    }
   ],
   "source": [
    "meta_data[\"channels\"]"
   ]
  },
  {
   "cell_type": "markdown",
   "metadata": {},
   "source": [
    "### Exercise: Print only the pixel size info, and in a seperate cell, the axes info"
   ]
  },
  {
   "cell_type": "code",
   "execution_count": 20,
   "metadata": {},
   "outputs": [
    {
     "data": {
      "text/plain": [
       "['1', '1']"
      ]
     },
     "execution_count": 20,
     "metadata": {},
     "output_type": "execute_result"
    }
   ],
   "source": [
    "meta_data[\"pixel_size\"]"
   ]
  },
  {
   "cell_type": "code",
   "execution_count": 21,
   "metadata": {},
   "outputs": [
    {
     "data": {
      "text/plain": [
       "['CXY']"
      ]
     },
     "execution_count": 21,
     "metadata": {},
     "output_type": "execute_result"
    }
   ],
   "source": [
    "meta_data[\"axes\"]"
   ]
  },
  {
   "cell_type": "markdown",
   "metadata": {},
   "source": [
    "### Exercise: Based on the metadata and the shape, what is a likely meaning of the four axes of ctl_data?\n",
    "<font color = 'red'> give students the shape below <font>"
   ]
  },
  {
   "cell_type": "code",
   "execution_count": 22,
   "metadata": {},
   "outputs": [
    {
     "data": {
      "text/plain": [
       "(3, 512, 512)"
      ]
     },
     "execution_count": 22,
     "metadata": {},
     "output_type": "execute_result"
    }
   ],
   "source": [
    "imdata.shape"
   ]
  },
  {
   "cell_type": "markdown",
   "metadata": {},
   "source": [
    "### Use the metadata \n",
    "\n",
    "It can be useful to organize your data into a dict instead of a numerical array when one of the dimensions of the array corresponds to something that is non-numerical in nature. Here, the channel dimension is stored as another dimension in the numerical array that is wt_data. To get the image corresponding to one of the channels, you would have to remember which of the channel slices corresponds to the channel you would like to see. Below we'll organize the data into a dict so that the channels can be indexed by an intuitive string and not a numerical index.\n",
    "\n",
    "create a new dictionary that refers to one slice and all channeles"
   ]
  },
  {
   "cell_type": "code",
   "execution_count": 23,
   "metadata": {},
   "outputs": [
    {
     "name": "stdout",
     "output_type": "stream",
     "text": [
      "0\n",
      "1\n",
      "2\n"
     ]
    }
   ],
   "source": [
    "slice = {}\n",
    "\n",
    "for idx, channel in enumerate(meta_data['channels']):\n",
    "    slice[channel] = imdata[idx,:,:]\n",
    "    print(idx)"
   ]
  },
  {
   "cell_type": "code",
   "execution_count": 24,
   "metadata": {},
   "outputs": [
    {
     "data": {
      "text/plain": [
       "array([[345, 344, 337, ..., 346, 338, 344],\n",
       "       [340, 343, 346, ..., 340, 338, 345],\n",
       "       [344, 352, 351, ..., 354, 340, 344],\n",
       "       ...,\n",
       "       [341, 340, 328, ..., 341, 344, 338],\n",
       "       [335, 336, 336, ..., 343, 341, 347],\n",
       "       [332, 335, 335, ..., 341, 339, 342]], dtype=uint16)"
      ]
     },
     "execution_count": 24,
     "metadata": {},
     "output_type": "execute_result"
    }
   ],
   "source": [
    "slice['YFP']"
   ]
  },
  {
   "cell_type": "markdown",
   "metadata": {
    "collapsed": true
   },
   "source": [
    "### Exercise (3 min): Look at another channel; can you figure out what the numbers mean?"
   ]
  },
  {
   "cell_type": "markdown",
   "metadata": {},
   "source": [
    "## 4. View image in iPython notebook\n"
   ]
  },
  {
   "cell_type": "markdown",
   "metadata": {},
   "source": [
    "Use seaborn package to suppress grid lines.\n",
    "About Seaborn: https://www.datacamp.com/community/tutorials/seaborn-python-tutorial#sm"
   ]
  },
  {
   "cell_type": "code",
   "execution_count": 25,
   "metadata": {},
   "outputs": [],
   "source": [
    "sns.set_style(\"dark\") "
   ]
  },
  {
   "cell_type": "markdown",
   "metadata": {},
   "source": [
    "get the dimensions of this single slice in pixels"
   ]
  },
  {
   "cell_type": "code",
   "execution_count": 26,
   "metadata": {},
   "outputs": [
    {
     "data": {
      "text/plain": [
       "(512, 512)"
      ]
     },
     "execution_count": 26,
     "metadata": {},
     "output_type": "execute_result"
    }
   ],
   "source": [
    "brt_data.shape #name that we assigned to the brightfield image above"
   ]
  },
  {
   "cell_type": "code",
   "execution_count": 27,
   "metadata": {},
   "outputs": [
    {
     "data": {
      "text/plain": [
       "<matplotlib.image.AxesImage at 0x7fedd0086f28>"
      ]
     },
     "execution_count": 27,
     "metadata": {},
     "output_type": "execute_result"
    },
    {
     "data": {
      "image/png": "[encoded data removed]",
      "text/plain": [
       "<Figure size 432x288 with 1 Axes>"
      ]
     },
     "metadata": {},
     "output_type": "display_data"
    }
   ],
   "source": [
    "plt.imshow(brt_data, cmap='gray') #show the image in the notebook, using a grayscale lookup table"
   ]
  },
  {
   "cell_type": "markdown",
   "metadata": {},
   "source": [
    "### Exercise: Use plt.imshow to show the same image, but use the dict we defined above to get the desired channel"
   ]
  },
  {
   "cell_type": "code",
   "execution_count": 28,
   "metadata": {},
   "outputs": [
    {
     "data": {
      "text/plain": [
       "<matplotlib.image.AxesImage at 0x7fee0114d518>"
      ]
     },
     "execution_count": 28,
     "metadata": {},
     "output_type": "execute_result"
    },
    {
     "data": {
      "image/png": "[encoded data removed]",
      "text/plain": [
       "<Figure size 432x288 with 1 Axes>"
      ]
     },
     "metadata": {},
     "output_type": "display_data"
    }
   ],
   "source": [
    "# We can also look at the slice dict\n",
    "plt.imshow(slice['DIC'], cmap='gray')"
   ]
  },
  {
   "cell_type": "markdown",
   "metadata": {},
   "source": [
    "## 5. Color maps and color science\n"
   ]
  },
  {
   "cell_type": "markdown",
   "metadata": {},
   "source": [
    "We had to specify how we wanted our colorless image to be rendered on our colorful screen, which is why we included `cmap=gray` (cmap for colormap)."
   ]
  },
  {
   "cell_type": "markdown",
   "metadata": {},
   "source": [
    "If we wanted to visualize things in a more striking way, with false colors and more contrast, we could use a different colormap."
   ]
  },
  {
   "cell_type": "code",
   "execution_count": 29,
   "metadata": {},
   "outputs": [
    {
     "data": {
      "text/plain": [
       "<matplotlib.colorbar.Colorbar at 0x7fedc02c5ac8>"
      ]
     },
     "execution_count": 29,
     "metadata": {},
     "output_type": "execute_result"
    },
    {
     "data": {
      "image/png": "[encoded data removed]",
      "text/plain": [
       "<Figure size 432x288 with 2 Axes>"
      ]
     },
     "metadata": {},
     "output_type": "display_data"
    }
   ],
   "source": [
    "plt.imshow(brt_data, cmap='jet')\n",
    "plt.colorbar()"
   ]
  },
  {
   "cell_type": "markdown",
   "metadata": {},
   "source": [
    "### Exercise: Find your favorite color map\n",
    "Which color map is better? Jet or plasma? Read the documentation for the matplotlib colormaps online and find your favorate color map. \n",
    "Here is the link: https://matplotlib.org/users/colormaps.html"
   ]
  },
  {
   "cell_type": "markdown",
   "metadata": {},
   "source": [
    "Any of the rainbow colormaps are bad colormaps because they are perceptually non-uniform."
   ]
  },
  {
   "cell_type": "markdown",
   "metadata": {},
   "source": [
    "## 6. Histogram the pixel values in the image\n"
   ]
  },
  {
   "cell_type": "markdown",
   "metadata": {},
   "source": [
    "What is the bit depth of our images?\n"
   ]
  },
  {
   "cell_type": "code",
   "execution_count": 30,
   "metadata": {},
   "outputs": [
    {
     "data": {
      "text/plain": [
       "dtype('uint16')"
      ]
     },
     "execution_count": 30,
     "metadata": {},
     "output_type": "execute_result"
    }
   ],
   "source": [
    "brt_data.dtype  #this is our brightfield image"
   ]
  },
  {
   "cell_type": "markdown",
   "metadata": {},
   "source": [
    "### Exercise (3 min): What is the difference between 1 bit vs. 8 bit vs. 16 bit display (thumbnail view do not show image if > 16 bit); what do you think 1 bit will look like?"
   ]
  },
  {
   "cell_type": "markdown",
   "metadata": {},
   "source": [
    "There are many kinds of data types. Here the data type is `uint16`.\n",
    " `uint16` means \"unsigned (not negative) integer with 16 bits per pixel\".\n",
    "\n",
    "16 bits means there are $2^{16} = 65536$ possible values, which are numbers that range from 0 to 65535 in python.\n",
    "\n",
    "The bit depth of your image depends on the detector (camera, other detector) that your microscope uses.\n",
    "Many detectors divide intensity scale into 8 bits (or $2^8 = 256$ levels, 0 to 255) or 16 bits ($2^{16} = 65536$ or 0 to 65536). \n",
    "\n",
    "_note: your operating system cannot display thumbnail images of 16-bit images_"
   ]
  },
  {
   "cell_type": "markdown",
   "metadata": {},
   "source": [
    "### Make histogram of the pixel values\n"
   ]
  },
  {
   "cell_type": "markdown",
   "metadata": {},
   "source": [
    "Pixels in an image are just represented by numbers. We can get a sense for the distribution of brightness in our image by looking at a histogram of intensities. Here we don't think about an image as representing something spacial - just a collection of numbers.\n",
    "\n",
    "Since the histogram is agnostic about _where_ in the image each pixel is located,\n",
    "We can build a histogram by pushing our array into a 1D array of data"
   ]
  },
  {
   "cell_type": "code",
   "execution_count": 31,
   "metadata": {},
   "outputs": [],
   "source": [
    "flat_data = brt_data.flatten()"
   ]
  },
  {
   "cell_type": "code",
   "execution_count": 43,
   "metadata": {},
   "outputs": [],
   "source": [
    "?sns.distplot"
   ]
  },
  {
   "cell_type": "markdown",
   "metadata": {},
   "source": [
    "distplot=distribution plot"
   ]
  },
  {
   "cell_type": "code",
   "execution_count": 45,
   "metadata": {},
   "outputs": [
    {
     "name": "stderr",
     "output_type": "stream",
     "text": [
      "/Users/ws/anaconda3/lib/python3.6/site-packages/matplotlib/axes/_axes.py:6462: UserWarning: The 'normed' kwarg is deprecated, and has been replaced by the 'density' kwarg.\n",
      "  warnings.warn(\"The 'normed' kwarg is deprecated, and has been \"\n"
     ]
    },
    {
     "data": {
      "text/plain": [
       "(0, 60000)"
      ]
     },
     "execution_count": 45,
     "metadata": {},
     "output_type": "execute_result"
    },
    {
     "data": {
      "image/png": "[encoded data removed]",
      "text/plain": [
       "<Figure size 432x288 with 1 Axes>"
      ]
     },
     "metadata": {},
     "output_type": "display_data"
    }
   ],
   "source": [
    "#sns.distplot(flat_data, norm_hist=True) #this function will be depreacated in seaborn (infor from Dec3,2023)\n",
    "\n",
    "sns.distplot(flat_data, hist=True) #sns.distplot automatically guess good number of bins.\n",
    "plt.xlabel(\"Pixel intensity\")\n",
    "plt.ylabel(\"Frequency in the image\")\n",
    "plt.xlim(0,60000)"
   ]
  },
  {
   "cell_type": "markdown",
   "metadata": {},
   "source": [
    "### Exercise: Why does the histogram of the YFP channel look the way it does?\n",
    "Try to fix the display _hint remove the plt.xlim statement_"
   ]
  },
  {
   "cell_type": "code",
   "execution_count": 48,
   "metadata": {},
   "outputs": [
    {
     "name": "stderr",
     "output_type": "stream",
     "text": [
      "/Users/ws/anaconda3/lib/python3.6/site-packages/matplotlib/axes/_axes.py:6462: UserWarning: The 'normed' kwarg is deprecated, and has been replaced by the 'density' kwarg.\n",
      "  warnings.warn(\"The 'normed' kwarg is deprecated, and has been \"\n"
     ]
    },
    {
     "data": {
      "text/plain": [
       "(0, 60000)"
      ]
     },
     "execution_count": 48,
     "metadata": {},
     "output_type": "execute_result"
    },
    {
     "data": {
      "image/png": "[encoded data removed]",
      "text/plain": [
       "<Figure size 432x288 with 1 Axes>"
      ]
     },
     "metadata": {},
     "output_type": "display_data"
    }
   ],
   "source": [
    "flat_data = ch1_data.flatten()\n",
    "sns.distplot(flat_data, hist=True) #sns.distplot automatically guess good number of bins.\n",
    "plt.xlabel(\"Pixel intensity\")\n",
    "plt.ylabel(\"Frequency in the image\")\n",
    "plt.xlim(0,60000)"
   ]
  },
  {
   "cell_type": "markdown",
   "metadata": {},
   "source": [
    "## 7. Indexing and arrays\n"
   ]
  },
  {
   "cell_type": "markdown",
   "metadata": {},
   "source": [
    "### Print a subset of pixel values "
   ]
  },
  {
   "cell_type": "markdown",
   "metadata": {},
   "source": [
    "How would we index into the upper left-most pixel?"
   ]
  },
  {
   "cell_type": "code",
   "execution_count": 49,
   "metadata": {},
   "outputs": [
    {
     "data": {
      "text/plain": [
       "343"
      ]
     },
     "execution_count": 49,
     "metadata": {},
     "output_type": "execute_result"
    }
   ],
   "source": [
    "slice[\"YFP\"][1,1]"
   ]
  },
  {
   "cell_type": "markdown",
   "metadata": {},
   "source": [
    "What about the lower left?"
   ]
  },
  {
   "cell_type": "code",
   "execution_count": 50,
   "metadata": {
    "scrolled": true
   },
   "outputs": [
    {
     "data": {
      "text/plain": [
       "332"
      ]
     },
     "execution_count": 50,
     "metadata": {},
     "output_type": "execute_result"
    }
   ],
   "source": [
    "slice[\"YFP\"][-1,0]"
   ]
  },
  {
   "cell_type": "markdown",
   "metadata": {},
   "source": [
    "row -1 is the last row; column 0"
   ]
  },
  {
   "cell_type": "markdown",
   "metadata": {},
   "source": [
    "What about a 10x10 slice from the upper right?"
   ]
  },
  {
   "cell_type": "code",
   "execution_count": 51,
   "metadata": {},
   "outputs": [
    {
     "data": {
      "text/plain": [
       "array([[344, 354, 350, 346, 347, 342, 342, 346, 338],\n",
       "       [344, 345, 345, 351, 347, 339, 338, 340, 338],\n",
       "       [340, 348, 347, 342, 344, 341, 351, 354, 340],\n",
       "       [343, 346, 341, 353, 350, 340, 340, 339, 338],\n",
       "       [341, 342, 342, 347, 347, 345, 346, 344, 340],\n",
       "       [349, 344, 349, 345, 347, 343, 350, 348, 348],\n",
       "       [342, 345, 352, 349, 343, 349, 344, 348, 342],\n",
       "       [341, 346, 350, 344, 347, 347, 346, 334, 339],\n",
       "       [348, 353, 348, 350, 338, 347, 343, 344, 344],\n",
       "       [354, 353, 352, 350, 354, 348, 341, 342, 340]], dtype=uint16)"
      ]
     },
     "execution_count": 51,
     "metadata": {},
     "output_type": "execute_result"
    }
   ],
   "source": [
    "slice[\"YFP\"][0:10,-10:-1]"
   ]
  },
  {
   "cell_type": "code",
   "execution_count": 52,
   "metadata": {},
   "outputs": [
    {
     "data": {
      "text/plain": [
       "<matplotlib.image.AxesImage at 0x7fee3173bef0>"
      ]
     },
     "execution_count": 52,
     "metadata": {},
     "output_type": "execute_result"
    },
    {
     "data": {
      "image/png": "[encoded data removed]",
      "text/plain": [
       "<Figure size 432x288 with 1 Axes>"
      ]
     },
     "metadata": {},
     "output_type": "display_data"
    }
   ],
   "source": [
    "plt.imshow(slice[\"YFP\"][0:10,-10:-1], cmap='gray')"
   ]
  },
  {
   "cell_type": "markdown",
   "metadata": {},
   "source": [
    "row 0:10 is 0 to 9; 10 not counted and not included;\n",
    "column -10:-1 is last - 10 to the second to last - does not include the last one.\n",
    "\n",
    "INDEXING: We only have 90 pixels not 100 pixels. Ranges of indices are exclusive on the high side, inclusive on the low. \n",
    "\n",
    "What happens if I have a slice `1:2`?"
   ]
  },
  {
   "cell_type": "code",
   "execution_count": 53,
   "metadata": {},
   "outputs": [
    {
     "data": {
      "text/plain": [
       "array([[343]], dtype=uint16)"
      ]
     },
     "execution_count": 53,
     "metadata": {},
     "output_type": "execute_result"
    }
   ],
   "source": [
    "slice[\"YFP\"][1:2, 1:2]"
   ]
  },
  {
   "cell_type": "markdown",
   "metadata": {},
   "source": [
    "We get row and column \"from 1, up to (but not including) 2\". This is the same as `data[1,1]`."
   ]
  },
  {
   "cell_type": "markdown",
   "metadata": {},
   "source": [
    "To save some typing when slicing into your data, we can leave off the value before the colon, meaning (to the beginning). Leaving off the value after means (to the end)."
   ]
  },
  {
   "cell_type": "code",
   "execution_count": 54,
   "metadata": {},
   "outputs": [
    {
     "data": {
      "text/plain": [
       "array([[344, 354, 350, 346, 347, 342, 342, 346, 338, 344],\n",
       "       [344, 345, 345, 351, 347, 339, 338, 340, 338, 345],\n",
       "       [340, 348, 347, 342, 344, 341, 351, 354, 340, 344],\n",
       "       [343, 346, 341, 353, 350, 340, 340, 339, 338, 349],\n",
       "       [341, 342, 342, 347, 347, 345, 346, 344, 340, 351],\n",
       "       [349, 344, 349, 345, 347, 343, 350, 348, 348, 346],\n",
       "       [342, 345, 352, 349, 343, 349, 344, 348, 342, 347],\n",
       "       [341, 346, 350, 344, 347, 347, 346, 334, 339, 352],\n",
       "       [348, 353, 348, 350, 338, 347, 343, 344, 344, 344],\n",
       "       [354, 353, 352, 350, 354, 348, 341, 342, 340, 342]], dtype=uint16)"
      ]
     },
     "execution_count": 54,
     "metadata": {},
     "output_type": "execute_result"
    }
   ],
   "source": [
    "slice[\"YFP\"][:10,-10:]"
   ]
  },
  {
   "cell_type": "markdown",
   "metadata": {},
   "source": [
    "###  Exercise (3 min): Set that subset of values to 0?"
   ]
  },
  {
   "cell_type": "markdown",
   "metadata": {},
   "source": [
    "Let's not ruin our original by making a copy! (Keep RAW DATA RAW)"
   ]
  },
  {
   "cell_type": "code",
   "execution_count": 56,
   "metadata": {},
   "outputs": [],
   "source": [
    "modified_data = slice[\"YFP\"].copy() #keep raw data raw"
   ]
  },
  {
   "cell_type": "markdown",
   "metadata": {},
   "source": [
    "We've viewed data using slicing, now let's set data using slicing!"
   ]
  },
  {
   "cell_type": "code",
   "execution_count": 57,
   "metadata": {},
   "outputs": [],
   "source": [
    "modified_data[:200,-200:] = 0"
   ]
  },
  {
   "cell_type": "markdown",
   "metadata": {},
   "source": [
    "Even though `modified_data[:200,:200]` is a 200x200 array, and 0 is just a scalar, `numpy` is smart and will _broadcast_ the 1x1 value `0` so that the whole 500x500 array is set to a 200x200 array of zeros."
   ]
  },
  {
   "cell_type": "markdown",
   "metadata": {},
   "source": [
    "View the modified image"
   ]
  },
  {
   "cell_type": "code",
   "execution_count": 58,
   "metadata": {},
   "outputs": [
    {
     "data": {
      "text/plain": [
       "<matplotlib.image.AxesImage at 0x7fee4173ce10>"
      ]
     },
     "execution_count": 58,
     "metadata": {},
     "output_type": "execute_result"
    },
    {
     "data": {
      "image/png": "[encoded data removed]",
      "text/plain": [
       "<Figure size 432x288 with 1 Axes>"
      ]
     },
     "metadata": {},
     "output_type": "display_data"
    }
   ],
   "source": [
    "plt.imshow(modified_data, cmap='gray')"
   ]
  },
  {
   "cell_type": "markdown",
   "metadata": {},
   "source": [
    "## 8. Errors and debugs \n"
   ]
  },
  {
   "cell_type": "markdown",
   "metadata": {},
   "source": [
    "Let's make an random function"
   ]
  },
  {
   "cell_type": "code",
   "execution_count": 43,
   "metadata": {
    "collapsed": true
   },
   "outputs": [],
   "source": [
    "%matplotlib inline                \n",
    "\n",
    "import numpy as np\n",
    "import matplotlib.pyplot as plt   \n",
    "import seaborn as sns\n",
    "\n",
    "def load_image(filename):\n",
    "    return np.random.rand(400, 600)"
   ]
  },
  {
   "cell_type": "markdown",
   "metadata": {},
   "source": [
    "### Syntax errors"
   ]
  },
  {
   "cell_type": "markdown",
   "metadata": {},
   "source": [
    "What is this code supposed to do?"
   ]
  },
  {
   "cell_type": "code",
   "execution_count": 44,
   "metadata": {},
   "outputs": [
    {
     "ename": "SyntaxError",
     "evalue": "invalid syntax (<ipython-input-44-0fd0184bb011>, line 1)",
     "output_type": "error",
     "traceback": [
      "\u001b[0;36m  File \u001b[0;32m\"<ipython-input-44-0fd0184bb011>\"\u001b[0;36m, line \u001b[0;32m1\u001b[0m\n\u001b[0;31m    for i in range(50)\u001b[0m\n\u001b[0m                      ^\u001b[0m\n\u001b[0;31mSyntaxError\u001b[0m\u001b[0;31m:\u001b[0m invalid syntax\n"
     ]
    }
   ],
   "source": [
    "for i in range(50)\n",
    "    image_data = load_image(\"image_{}\".format(i))\n",
    "    my_images.append(image_data)"
   ]
  },
  {
   "cell_type": "markdown",
   "metadata": {},
   "source": [
    "This file is trying to load a series of numbered images into an array of images.\n",
    "\n",
    "_However_ running it gives you an error\n",
    "\n",
    "Python errors are given to you as a \"stack trace\". Let's first dissect a stack trace.\n",
    "\n",
    "**`File \"<ipython-input-some_number-some_ID_number>\", line 3`** tells you what file, and where in the file, the error came from. Because we're in a notebook, instead of a file we get a message that tells us we're in a notebook using IPython and that the error was in line 3.\n",
    "\n",
    "**`  for i in range(50)`** is where Python conveniently reminds us what code was at line 3. Sometimes it shows us a bit of code before and after to give us context.\n",
    "\n",
    "**`^`** marks exactly _where_ in line 3 the problem was noticed. This can be tricky because a problem with a function call may not be noticed until the closing ')' at the very end of the function. Nonetheless, here it might be helpful.\n",
    "\n",
    "**`SyntaxError: invalid syntax`**. This tells us that our problem is a SyntaxError, which is one of a large hierarchy of errors python can provide us with.\n",
    "\n",
    "`SyntaxError`s happen when Python sees you violating the rules of the language - it's a problem with the literal code characters you have typed rather than what your code is trying to do conceptually. Therefore they are usually short errors with quick fixes."
   ]
  },
  {
   "cell_type": "markdown",
   "metadata": {},
   "source": [
    "Do you see how to fix _this_ error?"
   ]
  },
  {
   "cell_type": "code",
   "execution_count": null,
   "metadata": {
    "collapsed": true
   },
   "outputs": [],
   "source": [
    "for i in range(50):# do something here to fix\n",
    "    image_data = load_image(\"image_{}\".format(i))\n",
    "    my_images.append(image_data)"
   ]
  },
  {
   "cell_type": "markdown",
   "metadata": {},
   "source": [
    "### NameError "
   ]
  },
  {
   "cell_type": "markdown",
   "metadata": {},
   "source": [
    "`NameError`s happen when you try to access a python variable or function that does not exist yet. To get a NameError, Python has to actually try to run your code, so NameError is a type of `RuntimeError`."
   ]
  },
  {
   "cell_type": "markdown",
   "metadata": {},
   "source": [
    "Can you add in a line that fixes this code?"
   ]
  },
  {
   "cell_type": "code",
   "execution_count": null,
   "metadata": {
    "collapsed": true
   },
   "outputs": [],
   "source": [
    "my_images = [] #add a line here to fix\n",
    "\n",
    "for i in range(50):\n",
    "    image_data = load_image(\"image_{}\".format(i))\n",
    "    my_images.append(image_data)"
   ]
  },
  {
   "cell_type": "code",
   "execution_count": null,
   "metadata": {
    "collapsed": true
   },
   "outputs": [],
   "source": [
    "for i in range(50):\n",
    "    intensity = my_images[i].mean()\n",
    "    next_intensity = my_images[i+1].mean()\n",
    "    if abs(intensity - next_intensity) > 0.10 * intensity:\n",
    "        print(\"Notice: intensity jumped between images {} and {}\".format(i, i+1))\n",
    "        break"
   ]
  },
  {
   "cell_type": "markdown",
   "metadata": {},
   "source": [
    "### IndexError"
   ]
  },
  {
   "cell_type": "markdown",
   "metadata": {},
   "source": [
    "`IndexError`s happen when you try to access data from a list-like object, such as a `numpy` array or image, but the location you requested does not exist. Like asking for index 10 for a list of 10 items.\n",
    "\n",
    "In image processing, this is often caused by switching your rows/columns or width/height. Say you have a 400x600 image and try to access a pixel at row 401-600.\n",
    "\n",
    "It is also generally common when looping through something by index. This is a good reason to use Python's `for item in collection` syntax rather than looping through indices!"
   ]
  },
  {
   "cell_type": "code",
   "execution_count": null,
   "metadata": {
    "collapsed": true
   },
   "outputs": [],
   "source": [
    "data = [1, 3, \"cat\", 0.4]\n",
    "\n",
    "print('list 1')\n",
    "# This is less clear and prone to error\n",
    "for index in range(4):\n",
    "    item = data[index]\n",
    "    print(item)\n",
    "\n",
    "print('\\nlist 2')    \n",
    "# Than this\n",
    "for item in data:\n",
    "    print(item)"
   ]
  },
  {
   "cell_type": "markdown",
   "metadata": {},
   "source": [
    "One interesting thing about Python loop's current value, `i` in this case, is available outside the loop and does not reset until you run the loop again. This let's us quickly check what value `i` took on when the code crashed!"
   ]
  },
  {
   "cell_type": "code",
   "execution_count": null,
   "metadata": {
    "collapsed": true
   },
   "outputs": [],
   "source": [
    "print(i)"
   ]
  },
  {
   "cell_type": "markdown",
   "metadata": {},
   "source": [
    "Now can you explain what happened here? Can you fix this code?"
   ]
  },
  {
   "cell_type": "code",
   "execution_count": null,
   "metadata": {
    "collapsed": true
   },
   "outputs": [],
   "source": [
    "for i in range(49):\n",
    "    intensity = my_images[i].mean()\n",
    "    next_intensity = my_images[i+1].mean()\n",
    "    if abs(intensity - next_intensity) > 0.10 * intensity:\n",
    "        print(\"Notice: intensity jumped between images {} and {}\".format(i, i+1))\n",
    "        break"
   ]
  },
  {
   "cell_type": "markdown",
   "metadata": {},
   "source": [
    "### Exercise: Think and discuss about the sufficiency and necessity of error messages."
   ]
  },
  {
   "cell_type": "markdown",
   "metadata": {},
   "source": [
    "What would have happened if instead of comparing image `i` to image `i+1` we had compared image `i-1` (previous image) to `i`?"
   ]
  },
  {
   "cell_type": "code",
   "execution_count": null,
   "metadata": {
    "collapsed": true
   },
   "outputs": [],
   "source": [
    "for i in range(50):\n",
    "    intensity = my_images[i-1].mean()\n",
    "    next_intensity = my_images[i].mean()\n",
    "    if abs(intensity - next_intensity) > 0.10 * intensity:\n",
    "        print(\"Notice: intensity jumped between images {} and {}\".format(i-1, i))\n",
    "        break"
   ]
  },
  {
   "cell_type": "markdown",
   "metadata": {},
   "source": [
    "There was no error! Did this solve our problem?"
   ]
  },
  {
   "cell_type": "markdown",
   "metadata": {},
   "source": [
    "No, it did not. Consider the first pass through the loop. `i` is 0. `i-1` is -1. What is `my_images[-1]`?"
   ]
  },
  {
   "cell_type": "markdown",
   "metadata": {},
   "source": [
    "`my_images[-1]` doesn't give a name error, -1 refers to the _last_ item in the list. But we don't want to compare the first and last images, so although this runs it's not the right behavior."
   ]
  },
  {
   "cell_type": "markdown",
   "metadata": {},
   "source": [
    "### Long stack traces"
   ]
  },
  {
   "cell_type": "markdown",
   "metadata": {},
   "source": [
    "What can make the errors that we see in this course particularly daunting is that we use many libraries which use other libraries which in turn use more libraries, etc. This means that the peice of code that reports the error is often code we didn't write or didn't even know was being run, which can make errors feel unfair or unsolveable. But here's what's really happening.\n",
    "\n",
    "Imagine that you send me on an errand to buy groceries. You give me detailed instructions (a program) describing the steps to take. So I get in the car and start driving to the store. Half way there, I notice I'm out of gas. That's OK, I have my own program for dealing with that. \"Buy gas at a station\" is a bit of instructions you didn't know I had, nor did you anticipate me using, but it's being used now anyway. I pull into the gas station, get out of my car, pay for the gas, and try to start filling up. However, the gas cover locks from the inside. I don't know about this (new car), and send you a text trying to precisely describe the error: \"Nozzle cannot pass through solid metal\".\n",
    "\n",
    "So here you are, having sent me to buy groceries, and I tell you I can't because \"nozzle cannot pass through solid metal\". Python is frustrating in the same way: generally it tells you the _lowest-level problem_ when it fails. It's important to keep this in mind: the piece of code that reports an error is probably not the one that caused it!\n",
    "\n",
    "Stack traces report errors with the first call at the top. **This means that you should read a long stack trace by starting at the bottom and working up until you see a line of code that you wrote or a function you called.** This line is likely to be the line you have to change. Maybe you passed a string to a function when it needed an integer.\n",
    "\n",
    "Lines below code you wrote in the stack trace may contain hints about what's wrong. Maybe the lowest error at the bottom of the stack trace is \"Cannot subtract string from int\", which is a cluse that there was a string where an int should be.\n",
    "\n",
    "Higher lines tell you the context that the error happened in, i.e. what code ran before the error. Maybe you have a function that you use several times - you want to know _which_ usage of the function is giving you the error. If it's the 2nd time you use the function, then either the function _can_ work, but not in a particular context, or the function is being called in the 2nd location _before_ the first: the flow of your program is not what you expected."
   ]
  },
  {
   "cell_type": "code",
   "execution_count": null,
   "metadata": {},
   "outputs": [],
   "source": []
  }
 ],
 "metadata": {
  "anaconda-cloud": {},
  "kernelspec": {
   "display_name": "Python 3",
   "language": "python",
   "name": "python3"
  },
  "language_info": {
   "codemirror_mode": {
    "name": "ipython",
    "version": 3
   },
   "file_extension": ".py",
   "mimetype": "text/x-python",
   "name": "python",
   "nbconvert_exporter": "python",
   "pygments_lexer": "ipython3",
   "version": "3.6.13"
  }
 },
 "nbformat": 4,
 "nbformat_minor": 1
}
